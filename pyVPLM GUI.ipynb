{
 "cells": [
  {
   "cell_type": "code",
   "execution_count": 6,
   "id": "89e565db",
   "metadata": {
    "scrolled": true
   },
   "outputs": [
    {
     "data": {
      "application/vnd.jupyter.widget-view+json": {
       "model_id": "63ae6e46f1fd462bb841a5961e65bd5d",
       "version_major": 2,
       "version_minor": 0
      },
      "text/plain": [
       "Card(children=[Toolbar(children=[Dialog(children=[Card(children=[CardTitle(children=['Save'], class_='headline…"
      ]
     },
     "metadata": {},
     "output_type": "display_data"
    }
   ],
   "source": [
    "import importlib\n",
    "import pyVPLM_GUI\n",
    "importlib.reload(pyVPLM_GUI)\n",
    "\n",
    "pyVPLM_GUI.main"
   ]
  },
  {
   "cell_type": "code",
   "execution_count": null,
   "id": "e1b5ae8e",
   "metadata": {},
   "outputs": [],
   "source": []
  }
 ],
 "metadata": {
  "kernelspec": {
   "display_name": "Python 3 (ipykernel)",
   "language": "python",
   "name": "python3"
  },
  "language_info": {
   "codemirror_mode": {
    "name": "ipython",
    "version": 3
   },
   "file_extension": ".py",
   "mimetype": "text/x-python",
   "name": "python",
   "nbconvert_exporter": "python",
   "pygments_lexer": "ipython3",
   "version": "3.9.7"
  }
 },
 "nbformat": 4,
 "nbformat_minor": 5
}
