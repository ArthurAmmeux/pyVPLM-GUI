{
 "cells": [
  {
   "cell_type": "code",
   "execution_count": 10,
   "id": "8333828c",
   "metadata": {
    "scrolled": false
   },
   "outputs": [
    {
     "data": {
      "application/vnd.jupyter.widget-view+json": {
       "model_id": "50a8e83b36bd478ca82b308155f12e06",
       "version_major": 2,
       "version_minor": 0
      },
      "text/plain": [
       "Card(children=[Toolbar(children=[Card(children=[Tooltip(bottom=True, children=['Choose working directory'], v_…"
      ]
     },
     "metadata": {},
     "output_type": "display_data"
    }
   ],
   "source": [
    "import os\n",
    "import sys\n",
    "path = os.path.abspath(os.getcwd())[:-11]\n",
    "if path not in sys.path:\n",
    "    sys.path.append(path)\n",
    "import importlib\n",
    "import pyVPLM_GUI\n",
    "importlib.reload(pyVPLM_GUI)\n",
    "\n",
    "pyVPLM_GUI.main"
   ]
  }
 ],
 "metadata": {
  "kernelspec": {
   "display_name": "Python 3",
   "language": "python",
   "name": "python3"
  },
  "language_info": {
   "codemirror_mode": {
    "name": "ipython",
    "version": 3
   },
   "file_extension": ".py",
   "mimetype": "text/x-python",
   "name": "python",
   "nbconvert_exporter": "python",
   "pygments_lexer": "ipython3",
   "version": "3.6.7"
  }
 },
 "nbformat": 4,
 "nbformat_minor": 5
}
