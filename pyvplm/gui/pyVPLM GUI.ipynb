{
 "cells": [
  {
   "cell_type": "code",
   "execution_count": 16,
   "id": "43b2e726",
   "metadata": {
    "scrolled": false
   },
   "outputs": [
    {
     "data": {
      "application/vnd.jupyter.widget-view+json": {
       "model_id": "474af985bbd64072b0b0556db3458c7b",
       "version_major": 2,
       "version_minor": 0
      },
      "text/plain": [
       "Card(children=[Toolbar(children=[Dialog(children=[Card(children=[CardTitle(children=['Save'], class_='headline…"
      ]
     },
     "metadata": {},
     "output_type": "display_data"
    },
    {
     "name": "stdout",
     "output_type": "stream",
     "text": [
      "Chosen repetitive set is: {a, t}\n",
      "pi1: pi1 in [0.01,200.0], x**-1.0*z**1.0\n",
      "pi2: pi2 in [0.0001,100.0], x**-1.0*y**1.0\n",
      "pi3: pi3 in [50.0,200000.0], f**1.0*t**1.0\n",
      "pi4: pi4 in [0.00025,10000.0], a**1.0*t**2.0*x**-1.0\n",
      "pi5: pi5 in [0.005,5000.0], t**1.0*v**1.0*x**-1.0\n",
      "pi6: pi6 in [0.0025,100000.0], b**1.0*t**2.0*x**-1.0\n",
      "\n"
     ]
    }
   ],
   "source": [
    "import os\n",
    "import sys\n",
    "path = os.path.abspath(os.getcwd())[:-11]\n",
    "if path not in sys.path:\n",
    "    sys.path.append(path)\n",
    "import importlib\n",
    "import pyVPLM_GUI\n",
    "importlib.reload(pyVPLM_GUI)\n",
    "\n",
    "pyVPLM_GUI.main"
   ]
  },
  {
   "cell_type": "code",
   "execution_count": null,
   "id": "bc44af81",
   "metadata": {},
   "outputs": [],
   "source": []
  }
 ],
 "metadata": {
  "kernelspec": {
   "display_name": "Python 3 (ipykernel)",
   "language": "python",
   "name": "python3"
  },
  "language_info": {
   "codemirror_mode": {
    "name": "ipython",
    "version": 3
   },
   "file_extension": ".py",
   "mimetype": "text/x-python",
   "name": "python",
   "nbconvert_exporter": "python",
   "pygments_lexer": "ipython3",
   "version": "3.9.7"
  }
 },
 "nbformat": 4,
 "nbformat_minor": 5
}
