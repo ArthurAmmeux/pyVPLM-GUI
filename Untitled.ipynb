{
 "cells": [
  {
   "cell_type": "code",
   "execution_count": 75,
   "id": "authentic-surrey",
   "metadata": {},
   "outputs": [
    {
     "data": {
      "application/vnd.jupyter.widget-view+json": {
       "model_id": "cf3a5bf6dbab48b7b29f6c81e9c5ae71",
       "version_major": 2,
       "version_minor": 0
      },
      "text/plain": [
       "VBox(children=(HBox(children=(Text(value='', description='Name:', placeholder='length'), Text(value='', descri…"
      ]
     },
     "metadata": {},
     "output_type": "display_data"
    }
   ],
   "source": [
    "# Import pyVPLM modules/functions\n",
    "from pyvplm.core.definition import PositiveParameter, PositiveParameterSet\n",
    "from pyvplm.addon.variablepowerlaw import buckingham_theorem\n",
    "\n",
    "# Import libs\n",
    "import ipywidgets as widgets\n",
    "import ipysheet\n",
    "\n",
    "i = 0\n",
    "Clicked = False\n",
    "\n",
    "def add_variable(b):\n",
    "    global i\n",
    "    global Clicked\n",
    "    if Clicked == True:\n",
    "        sheet1.rows += 1\n",
    "    else:\n",
    "        Clicked = True\n",
    "    ipysheet.row(i, [v_name.value, v_symbol.value, v_unit.value, v_lower_bound.value, v_upper_bound.value])\n",
    "    i += 1\n",
    "    \n",
    "def rem_variable(b):\n",
    "    global i\n",
    "    global Clicked\n",
    "    if Clicked:\n",
    "        sheet1.rows -= 1\n",
    "        i -= 1\n",
    "        \n",
    "def read_sheet():\n",
    "    array = ipysheet.to_array(sheet1)\n",
    "\n",
    "v_name = widgets.Text(placeholder='length', description='Name:')\n",
    "v_lower_bound = widgets.FloatText(placeholder='0', description='Lower bound:', layout=widgets.Layout(width='150px'))\n",
    "v_upper_bound = widgets.FloatText(placeholder='100', description='Upper bound:', layout=widgets.Layout(width='150px'))\n",
    "v_symbol = widgets.Text(placeholder='x', description='Symbol:', layout=widgets.Layout(width='150px'))\n",
    "v_unit = widgets.Text(placeholder='m', description='Unit:', layout=widgets.Layout(width='150px'))\n",
    "\n",
    "button1 = widgets.Button(\n",
    "    description='Save variable',\n",
    "    disabled=False,\n",
    "    button_style='success', # 'success', 'info', 'warning', 'danger' or ''\n",
    "    tooltip='Save variable')\n",
    "button1.on_click(add_variable)\n",
    "\n",
    "button2 = widgets.Button(\n",
    "    description='Remove last',\n",
    "    disabled=False,\n",
    "    button_style='danger', # 'success', 'info', 'warning', 'danger' or ''\n",
    "    tooltip='Remove last variable')\n",
    "button2.on_click(rem_variable)\n",
    "\n",
    "sheet1 = ipysheet.sheet(rows = 1 ,column_headers = [\"Name\", \"Symbol\", \"Unit\", \"Lower bound\", \"Upper bound\"])\n",
    "ipysheet.row(0,[\"\", \"\", \"\", 0, 0])\n",
    "\n",
    "\n",
    "up_box = widgets.HBox([v_name, v_symbol, v_unit])\n",
    "down_box = widgets.HBox([v_lower_bound, v_upper_bound, button1, button2])\n",
    "vbox_1 = widgets.VBox([up_box, down_box, sheet1])\n",
    "vbox_1"
   ]
  },
  {
   "cell_type": "code",
   "execution_count": null,
   "id": "allied-lawrence",
   "metadata": {},
   "outputs": [],
   "source": []
  }
 ],
 "metadata": {
  "kernelspec": {
   "display_name": "Python 3",
   "language": "python",
   "name": "python3"
  },
  "language_info": {
   "codemirror_mode": {
    "name": "ipython",
    "version": 3
   },
   "file_extension": ".py",
   "mimetype": "text/x-python",
   "name": "python",
   "nbconvert_exporter": "python",
   "pygments_lexer": "ipython3",
   "version": "3.9.0"
  }
 },
 "nbformat": 4,
 "nbformat_minor": 5
}
